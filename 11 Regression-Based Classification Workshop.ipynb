{
 "cells": [
  {
   "cell_type": "markdown",
   "id": "agricultural-unknown",
   "metadata": {},
   "source": [
    "## Workshop - Regression-Based Classification\n",
    "\n",
    "Does `statsmodels` marginal effect use the average of covariates or the average predicted values? \n",
    "- Use the class data.\n",
    "- Show your work.\n",
    "\n",
    "Load the necessary packages and data:"
   ]
  },
  {
   "cell_type": "code",
   "execution_count": null,
   "id": "innovative-chase",
   "metadata": {},
   "outputs": [],
   "source": []
  },
  {
   "cell_type": "code",
   "execution_count": null,
   "id": "detected-consultancy",
   "metadata": {},
   "outputs": [],
   "source": []
  },
  {
   "cell_type": "markdown",
   "id": "sixth-terrorism",
   "metadata": {},
   "source": [
    "Fit a logistic regression using either `sm.Logit()` or `smf.logit()`."
   ]
  },
  {
   "cell_type": "code",
   "execution_count": null,
   "id": "powerful-calibration",
   "metadata": {},
   "outputs": [],
   "source": []
  },
  {
   "cell_type": "markdown",
   "id": "worldwide-therapy",
   "metadata": {},
   "source": [
    "Get the marginal effects (`.get_margeff()`). Print the summary (`.summary()`)."
   ]
  },
  {
   "cell_type": "code",
   "execution_count": null,
   "id": "three-sacrifice",
   "metadata": {},
   "outputs": [],
   "source": []
  },
  {
   "cell_type": "markdown",
   "id": "stuffed-smoke",
   "metadata": {},
   "source": [
    "***\n",
    "# Covariate Averages\n",
    "$$\n",
    "\\frac{\\partial p(x_i)}{\\partial \\beta_1} \\approx \\frac{e^{\\hat{\\beta}_0 + \\bar{x}\\hat{\\beta}_1 + \\bar{x}\\hat{\\beta_2}}}{(1 + e^{\\hat{\\beta}_0 + \\bar{x}\\hat{\\beta}_1 + \\bar{x}\\hat{\\beta_2}})^2}\\hat{\\beta}\n",
    "$$"
   ]
  },
  {
   "cell_type": "code",
   "execution_count": null,
   "id": "antique-parallel",
   "metadata": {},
   "outputs": [],
   "source": []
  },
  {
   "cell_type": "code",
   "execution_count": null,
   "id": "previous-charter",
   "metadata": {},
   "outputs": [],
   "source": []
  },
  {
   "cell_type": "markdown",
   "id": "premier-objective",
   "metadata": {},
   "source": [
    "***\n",
    "# Predicted values Averages\n",
    "$$\n",
    "\\frac{\\partial p(x_i)}{\\partial \\beta_1} \\approx \\frac{1}{n} \\sum_{i=1}\n",
    "^n \\frac{e^{\\hat{y}_i}}{1 + e^{\\hat{y}_i}}\\hat{\\beta}\n",
    "$$"
   ]
  },
  {
   "cell_type": "code",
   "execution_count": null,
   "id": "subtle-sewing",
   "metadata": {},
   "outputs": [],
   "source": []
  },
  {
   "cell_type": "code",
   "execution_count": null,
   "id": "spoken-campus",
   "metadata": {},
   "outputs": [],
   "source": []
  },
  {
   "cell_type": "markdown",
   "id": "nuclear-housing",
   "metadata": {},
   "source": [
    "*** \n",
    "# Interpretaton\n",
    "\n",
    "Interpret the marginal effect on one feature."
   ]
  },
  {
   "cell_type": "markdown",
   "id": "rubber-sweet",
   "metadata": {},
   "source": []
  }
 ],
 "metadata": {
  "kernelspec": {
   "display_name": "Python 3",
   "language": "python",
   "name": "python3"
  },
  "language_info": {
   "codemirror_mode": {
    "name": "ipython",
    "version": 3
   },
   "file_extension": ".py",
   "mimetype": "text/x-python",
   "name": "python",
   "nbconvert_exporter": "python",
   "pygments_lexer": "ipython3",
   "version": "3.8.5"
  }
 },
 "nbformat": 4,
 "nbformat_minor": 5
}
