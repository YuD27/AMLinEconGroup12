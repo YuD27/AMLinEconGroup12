{
 "cells": [
  {
   "cell_type": "markdown",
   "id": "demographic-generic",
   "metadata": {},
   "source": [
    "## Workshop - ML Classification\n",
    "\n",
    "In this workshop we will \n",
    "\n",
    "* obtain the null model accuracy\n",
    "* obtain a Gaussian naive Bayes accuracy\n",
    "* cross-validate a KNN classifier and obtain the accuracy\n",
    "\n",
    "Run this code. **Notice the alternative standardization technique.**"
   ]
  },
  {
   "cell_type": "code",
   "execution_count": 1,
   "id": "younger-gather",
   "metadata": {},
   "outputs": [],
   "source": [
    "import numpy as np\n",
    "import pandas as pd\n",
    "\n",
    "from sklearn.neighbors import KNeighborsClassifier\n",
    "from sklearn.naive_bayes import GaussianNB\n",
    "\n",
    "from sklearn.model_selection import KFold, train_test_split\n",
    "from sklearn.metrics import plot_confusion_matrix\n",
    "from sklearn.preprocessing import StandardScaler\n",
    "\n",
    "from tqdm import tqdm\n",
    "\n",
    "import matplotlib.pyplot as plt"
   ]
  },
  {
   "cell_type": "code",
   "execution_count": 2,
   "id": "sunset-editing",
   "metadata": {},
   "outputs": [],
   "source": [
    "df = pd.read_pickle('C:/Users/johnj/Documents/Data/aml in econ 02 spring 2021/class data/class_data.pkl')"
   ]
  },
  {
   "cell_type": "code",
   "execution_count": 3,
   "id": "premier-helen",
   "metadata": {},
   "outputs": [],
   "source": [
    "df_prepped = df.drop(columns = ['year']).join([\n",
    "    pd.get_dummies(df.year, drop_first = False)    \n",
    "])"
   ]
  },
  {
   "cell_type": "code",
   "execution_count": 4,
   "id": "grand-burns",
   "metadata": {},
   "outputs": [],
   "source": [
    "y = df_prepped['urate_bin'].astype('category')\n",
    "x = df_prepped.drop(columns = 'urate_bin')\n",
    "\n",
    "x_train, x_test, y_train, y_test = train_test_split(x, y, train_size = 2/3, random_state = 490)\n",
    "\n",
    "x_train_std = pd.DataFrame(StandardScaler().fit(x_train).transform(x_train),\n",
    "                           columns = x_train.columns,\n",
    "                           index = x_train.index)\n",
    "\n",
    "x_test_std = pd.DataFrame(StandardScaler().fit(x_test).transform(x_test),\n",
    "                          columns = x_test.columns, \n",
    "                          index = x_test.index)"
   ]
  },
  {
   "cell_type": "markdown",
   "id": "strange-connecticut",
   "metadata": {},
   "source": [
    "************\n",
    "# Null Model\n",
    "Obtain and print the accuracy for the null model."
   ]
  },
  {
   "cell_type": "code",
   "execution_count": 5,
   "id": "artificial-occasion",
   "metadata": {},
   "outputs": [
    {
     "data": {
      "text/plain": [
       "higher     14820\n",
       "lower      12856\n",
       "similar     6213\n",
       "Name: urate_bin, dtype: int64"
      ]
     },
     "execution_count": 5,
     "metadata": {},
     "output_type": "execute_result"
    }
   ],
   "source": [
    "y_train.value_counts()"
   ]
  },
  {
   "cell_type": "code",
   "execution_count": 6,
   "id": "atmospheric-parker",
   "metadata": {},
   "outputs": [
    {
     "data": {
      "text/plain": [
       "0.43416937149601653"
      ]
     },
     "execution_count": 6,
     "metadata": {},
     "output_type": "execute_result"
    }
   ],
   "source": [
    "acc_null = np.mean(y_test == 'higher')\n",
    "acc_null"
   ]
  },
  {
   "cell_type": "markdown",
   "id": "pending-judge",
   "metadata": {},
   "source": [
    "***\n",
    "# Gaussian Naive Bayes\n",
    "Obtain and print the GNB test accuracy."
   ]
  },
  {
   "cell_type": "code",
   "execution_count": 7,
   "id": "improved-english",
   "metadata": {},
   "outputs": [
    {
     "data": {
      "text/plain": [
       "0.49642962525818823"
      ]
     },
     "execution_count": 7,
     "metadata": {},
     "output_type": "execute_result"
    }
   ],
   "source": [
    "gnb = GaussianNB()\n",
    "gnb.fit(x_train, y_train)\n",
    "acc_gnb = gnb.score(x_test, y_test)\n",
    "acc_gnb"
   ]
  },
  {
   "cell_type": "markdown",
   "id": "nominated-fabric",
   "metadata": {},
   "source": [
    "Obtain and print the percent improvement in test accuracy from the null model."
   ]
  },
  {
   "cell_type": "code",
   "execution_count": 8,
   "id": "numerical-miami",
   "metadata": {},
   "outputs": [
    {
     "data": {
      "text/plain": [
       "14.34008427348103"
      ]
     },
     "execution_count": 8,
     "metadata": {},
     "output_type": "execute_result"
    }
   ],
   "source": [
    "100*(acc_gnb - acc_null)/acc_null"
   ]
  },
  {
   "cell_type": "markdown",
   "id": "diagnostic-swimming",
   "metadata": {},
   "source": [
    "***\n",
    "# KNN\n",
    "Complete the following for loop.\n",
    "\n",
    "*Hint: Lecture 11 Regression-Based Classification - Alternative Thresholds*."
   ]
  },
  {
   "cell_type": "code",
   "execution_count": 9,
   "id": "diverse-supply",
   "metadata": {},
   "outputs": [
    {
     "name": "stderr",
     "output_type": "stream",
     "text": [
      "100%|████████████████████████████████████████████████████████████████████████████████████| 3/3 [01:17<00:00, 25.72s/it]\n"
     ]
    }
   ],
   "source": [
    "kf = KFold(n_splits = 5, random_state = 490, shuffle = True)\n",
    "# I am helping you out by identifying approximately where the optimal solution is\n",
    "# in general, you should I would start with\n",
    "# [3, 5, 7, 10, 15, 20, 25]\n",
    "# and adjust accordingly\n",
    "# There is no reason to suspect a smaller or higher value is best a priori\n",
    "k_nbrs = [20, 30, 40]\n",
    "accuracy = {}\n",
    "\n",
    "\n",
    "for k in tqdm(k_nbrs):\n",
    "    acc = []\n",
    "    for trn, tst in kf.split(x_train_std):\n",
    "        yhat = KNeighborsClassifier(n_neighbors = k\n",
    "                                   ).fit(x_train_std.iloc[trn], y_train.iloc[trn]\n",
    "                                        ).predict(x_train_std.iloc[tst])        \n",
    "        acc.append(np.mean(yhat == y_train.iloc[tst]))\n",
    "    accuracy[k] = np.mean(acc)\n",
    "    \n",
    "# accuracy"
   ]
  },
  {
   "cell_type": "markdown",
   "id": "peaceful-manchester",
   "metadata": {},
   "source": [
    "What is the optimal value of $k$ using either `max()` or by producing a scatterplot."
   ]
  },
  {
   "cell_type": "code",
   "execution_count": 10,
   "id": "prescription-tobago",
   "metadata": {},
   "outputs": [
    {
     "name": "stdout",
     "output_type": "stream",
     "text": [
      "max accuracy at k = 30\n"
     ]
    }
   ],
   "source": [
    "print('max accuracy at k = %s' % max(accuracy, key = accuracy.get))"
   ]
  },
  {
   "cell_type": "code",
   "execution_count": 11,
   "id": "technological-province",
   "metadata": {},
   "outputs": [
    {
     "data": {
      "image/png": "[encoded data removed]",
      "text/plain": [
       "<Figure size 432x288 with 1 Axes>"
      ]
     },
     "metadata": {
      "needs_background": "light"
     },
     "output_type": "display_data"
    }
   ],
   "source": [
    "plt.scatter(accuracy.keys(), accuracy.values())\n",
    "plt.show()"
   ]
  },
  {
   "cell_type": "markdown",
   "id": "broadband-sunset",
   "metadata": {},
   "source": [
    "Refit the optimal KNN model on the training data."
   ]
  },
  {
   "cell_type": "code",
   "execution_count": 12,
   "id": "senior-ratio",
   "metadata": {},
   "outputs": [
    {
     "data": {
      "text/plain": [
       "KNeighborsClassifier(n_neighbors=30)"
      ]
     },
     "execution_count": 12,
     "metadata": {},
     "output_type": "execute_result"
    }
   ],
   "source": [
    "best_k = max(accuracy, key = accuracy.get)\n",
    "knn = KNeighborsClassifier(n_neighbors = best_k)\n",
    "knn.fit(x_train_std, y_train)"
   ]
  },
  {
   "cell_type": "markdown",
   "id": "pending-facing",
   "metadata": {},
   "source": [
    "Obtain and print the test accuracy."
   ]
  },
  {
   "cell_type": "code",
   "execution_count": 13,
   "id": "earlier-elimination",
   "metadata": {},
   "outputs": [
    {
     "name": "stdout",
     "output_type": "stream",
     "text": [
      "Wall time: 24.4 s\n"
     ]
    }
   ],
   "source": [
    "%%time\n",
    "yhat_knn = knn.predict(x_test_std)\n",
    "acc_knn = np.mean(yhat_knn == y_test)\n",
    "# acc_knn\n",
    "\n",
    "# You can alternatively use:\n",
    "# knn.score(x_test_std, y_test)"
   ]
  },
  {
   "cell_type": "markdown",
   "id": "paperback-bicycle",
   "metadata": {},
   "source": [
    "Obtain and print the percent improvement in test accuracy from the null model."
   ]
  },
  {
   "cell_type": "code",
   "execution_count": 14,
   "id": "medical-numbers",
   "metadata": {},
   "outputs": [
    {
     "data": {
      "text/plain": [
       "54.94087263830365"
      ]
     },
     "execution_count": 14,
     "metadata": {},
     "output_type": "execute_result"
    }
   ],
   "source": [
    "100*(acc_knn - acc_null)/acc_null"
   ]
  }
 ],
 "metadata": {
  "kernelspec": {
   "display_name": "Python 3",
   "language": "python",
   "name": "python3"
  },
  "language_info": {
   "codemirror_mode": {
    "name": "ipython",
    "version": 3
   },
   "file_extension": ".py",
   "mimetype": "text/x-python",
   "name": "python",
   "nbconvert_exporter": "python",
   "pygments_lexer": "ipython3",
   "version": "3.8.5"
  }
 },
 "nbformat": 4,
 "nbformat_minor": 5
}
