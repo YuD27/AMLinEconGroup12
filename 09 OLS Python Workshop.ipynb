{
 "cells": [
  {
   "cell_type": "markdown",
   "metadata": {},
   "source": [
    "## Workshop - OLS Python\n",
    "\n",
    "In this workshop, we are going to:\n",
    "\n",
    "1. perform backward selection on the class data set\n",
    "   1. fit the full model with $\\%\\Delta rGDP$ as the label\n",
    "   2. remove the feature with the highest p-value\n",
    "   3. refit the model\n",
    "   4. repeat steps B. and C. until all features have p-values below 0.05\n",
    "2. evaluatate the model performance\n",
    "\n",
    "*Do not use interactions or polynomial terms in this workshop.*\n",
    "\n",
    "# Preliminaries\n",
    "\n",
    "- Load any necessary packages and/or functions\n",
    "    * For backward select, I recommend using `statsmodels.api` instead of `statsmodels.formula.api`. Your choice.\n",
    "- Load in the class data\n",
    "- Define `x` and `y`\n",
    "- Create a train-test split with\n",
    "    * training size of two-thirds\n",
    "    * random state of 490"
   ]
  },
  {
   "cell_type": "code",
   "execution_count": 1,
   "metadata": {},
   "outputs": [],
   "source": [
    "import pandas as pd\n",
    "import numpy as np\n",
    "\n",
    "import statsmodels.api as sm\n",
    "import statsmodels.formula.api as smf\n",
    "\n",
    "from sklearn.linear_model import LinearRegression\n",
    "from sklearn.model_selection import train_test_split\n",
    "from sklearn.metrics import mean_squared_error"
   ]
  },
  {
   "cell_type": "code",
   "execution_count": 2,
   "metadata": {},
   "outputs": [
    {
     "data": {
      "text/plain": [
       "Index(['GeoName', 'pct_d_rgdp', 'urate_bin', 'pos_net_jobs', 'emp_estabs',\n",
       "       'estabs_entry_rate', 'estabs_exit_rate', 'pop', 'pop_pct_black',\n",
       "       'pop_pct_hisp', 'lfpr', 'density', 'year'],\n",
       "      dtype='object')"
      ]
     },
     "execution_count": 2,
     "metadata": {},
     "output_type": "execute_result"
    }
   ],
   "source": [
    "df = pd.read_pickle('C:/Users/T-2070/Desktop/ECON490AML/Data/class_data.pkl')\n",
    "df.columns"
   ]
  },
  {
   "cell_type": "code",
   "execution_count": 3,
   "metadata": {},
   "outputs": [
    {
     "data": {
      "text/plain": [
       "Index(['const', 'emp_estabs', 'emp_estabs_sq', 'lfpr', 'lfpr:urate_lower',\n",
       "       'lfpr:urate_similar', 'urate_lower', 'urate_similar', 'year_2003',\n",
       "       'year_2004', 'year_2005', 'year_2006', 'year_2007', 'year_2008',\n",
       "       'year_2009', 'year_2010', 'year_2011', 'year_2012', 'year_2013',\n",
       "       'year_2014', 'year_2015', 'year_2016', 'year_2017', 'year_2018'],\n",
       "      dtype='object')"
      ]
     },
     "execution_count": 3,
     "metadata": {},
     "output_type": "execute_result"
    }
   ],
   "source": [
    "y = df['pct_d_rgdp']\n",
    "x = df.drop(columns = 'pct_d_rgdp')\n",
    "\n",
    "# Creating dummies\n",
    "x = x.join([pd.get_dummies(x['year'], prefix = 'year', drop_first = True),\n",
    "          pd.get_dummies(x['urate_bin'], prefix = 'urate', drop_first = True)]).drop(columns = ['year', 'urate_bin'])\n",
    "x = sm.add_constant(x)\n",
    "\n",
    "# Creating interactions\n",
    "x['lfpr:urate_lower'] = x.lfpr * x.urate_lower\n",
    "x['lfpr:urate_similar'] = x.lfpr * x.urate_similar\n",
    "x['emp_estabs_sq'] = x.emp_estabs**2\n",
    "\n",
    "# Dropping features we do not want to use\n",
    "x.drop(columns = ['GeoName', 'pos_net_jobs', 'estabs_entry_rate', 'estabs_exit_rate',\n",
    "                  'pop', 'pop_pct_black', 'pop_pct_hisp', 'density'], inplace = True)\n",
    "\n",
    "# Sorting the columns for output\n",
    "x.sort_index(axis = 'columns', inplace = True)\n",
    "\n",
    "# Dropping un\n",
    "x.columns"
   ]
  },
  {
   "cell_type": "code",
   "execution_count": 4,
   "metadata": {},
   "outputs": [
    {
     "name": "stdout",
     "output_type": "stream",
     "text": [
      "(33418, 24)\n",
      "(33418,) \n",
      "\n",
      "(16709, 24)\n",
      "(16709,)\n"
     ]
    }
   ],
   "source": [
    "x_train, x_test, y_train, y_test = train_test_split(x, y, train_size = 2/3, random_state = 490)\n",
    "print(x_train.shape)\n",
    "print(y_train.shape, '\\n')\n",
    "\n",
    "print(x_test.shape)\n",
    "print(y_test.shape)"
   ]
  },
  {
   "cell_type": "markdown",
   "metadata": {},
   "source": [
    "*****\n",
    "# Backward Selection "
   ]
  },
  {
   "cell_type": "code",
   "execution_count": 24,
   "metadata": {},
   "outputs": [
    {
     "name": "stdout",
     "output_type": "stream",
     "text": [
      "                            OLS Regression Results                            \n",
      "==============================================================================\n",
      "Dep. Variable:             pct_d_rgdp   R-squared:                       0.030\n",
      "Model:                            OLS   Adj. R-squared:                  0.029\n",
      "Method:                 Least Squares   F-statistic:                     59.86\n",
      "Date:                Tue, 23 Feb 2021   Prob (F-statistic):          2.51e-202\n",
      "Time:                        14:38:02   Log-Likelihood:            -1.2100e+05\n",
      "No. Observations:               33418   AIC:                         2.420e+05\n",
      "Df Residuals:                   33400   BIC:                         2.422e+05\n",
      "Df Model:                          17                                         \n",
      "Covariance Type:            nonrobust                                         \n",
      "======================================================================================\n",
      "                         coef    std err          t      P>|t|      [0.025      0.975]\n",
      "--------------------------------------------------------------------------------------\n",
      "const                 -0.9802      0.452     -2.170      0.030      -1.866      -0.095\n",
      "emp_estabs            -0.0255      0.011     -2.398      0.017      -0.046      -0.005\n",
      "lfpr                   0.0485      0.006      8.668      0.000       0.038       0.059\n",
      "lfpr:urate_similar    -0.0312      0.015     -2.048      0.041      -0.061      -0.001\n",
      "urate_lower            1.3435      0.132     10.148      0.000       1.084       1.603\n",
      "urate_similar          2.9290      1.142      2.566      0.010       0.691       5.167\n",
      "year_2006              2.1154      0.229      9.221      0.000       1.666       2.565\n",
      "year_2007             -1.8045      0.222     -8.128      0.000      -2.240      -1.369\n",
      "year_2008             -2.3948      0.223    -10.742      0.000      -2.832      -1.958\n",
      "year_2009             -4.0955      0.225    -18.226      0.000      -4.536      -3.655\n",
      "year_2011             -1.1722      0.224     -5.241      0.000      -1.611      -0.734\n",
      "year_2012             -1.8091      0.225     -8.037      0.000      -2.250      -1.368\n",
      "year_2013             -0.5987      0.225     -2.661      0.008      -1.040      -0.158\n",
      "year_2014             -1.6745      0.225     -7.451      0.000      -2.115      -1.234\n",
      "year_2015             -1.4099      0.227     -6.222      0.000      -1.854      -0.966\n",
      "year_2016             -2.7963      0.225    -12.406      0.000      -3.238      -2.355\n",
      "year_2017             -1.6999      0.223     -7.626      0.000      -2.137      -1.263\n",
      "year_2018             -0.8079      0.228     -3.547      0.000      -1.254      -0.361\n",
      "==============================================================================\n",
      "Omnibus:                    34507.027   Durbin-Watson:                   1.987\n",
      "Prob(Omnibus):                  0.000   Jarque-Bera (JB):         12024812.210\n",
      "Skew:                           4.534   Prob(JB):                         0.00\n",
      "Kurtosis:                      95.486   Cond. No.                     1.86e+03\n",
      "==============================================================================\n",
      "\n",
      "Notes:\n",
      "[1] Standard Errors assume that the covariance matrix of the errors is correctly specified.\n",
      "[2] The condition number is large, 1.86e+03. This might indicate that there are\n",
      "strong multicollinearity or other numerical problems.\n"
     ]
    }
   ],
   "source": [
    "fit_sm = sm.OLS(y_train, x_train).fit()\n",
    "print(fit_sm.summary())"
   ]
  },
  {
   "cell_type": "code",
   "execution_count": 11,
   "metadata": {},
   "outputs": [],
   "source": [
    "x_train = x_train.drop(columns = ['year_2003'])"
   ]
  },
  {
   "cell_type": "code",
   "execution_count": 13,
   "metadata": {},
   "outputs": [],
   "source": [
    "x_train = x_train.drop(columns = ['year_2010'])"
   ]
  },
  {
   "cell_type": "code",
   "execution_count": 15,
   "metadata": {},
   "outputs": [],
   "source": [
    "x_train = x_train.drop(columns = ['year_2004'])"
   ]
  },
  {
   "cell_type": "code",
   "execution_count": 17,
   "metadata": {},
   "outputs": [],
   "source": [
    "x_train = x_train.drop(columns = ['lfpr:urate_lower'])"
   ]
  },
  {
   "cell_type": "code",
   "execution_count": 20,
   "metadata": {},
   "outputs": [],
   "source": [
    "x_train = x_train.drop(columns = ['emp_estabs_sq'])"
   ]
  },
  {
   "cell_type": "code",
   "execution_count": 22,
   "metadata": {},
   "outputs": [],
   "source": [
    "x_train = x_train.drop(columns = ['year_2005'])"
   ]
  },
  {
   "cell_type": "markdown",
   "metadata": {},
   "source": [
    "**********\n",
    "# Testing\n",
    "\n",
    "Evaluate two RMSEs:\n",
    "\n",
    "1. null model\n",
    "2. backward-selected model\n",
    "\n",
    "Then, determine the percent improvement of the backward-selected model from the null model."
   ]
  },
  {
   "cell_type": "code",
   "execution_count": 27,
   "metadata": {},
   "outputs": [
    {
     "data": {
      "text/plain": [
       "0.029565183747597867"
      ]
     },
     "execution_count": 27,
     "metadata": {},
     "output_type": "execute_result"
    }
   ],
   "source": [
    "fit_sm.params\n",
    "fit_sm.pvalues\n",
    "fit_sm.resid\n",
    "fit_sm.conf_int(alpha = 0.01)\n",
    "fit_sm.rsquared"
   ]
  },
  {
   "cell_type": "code",
   "execution_count": 28,
   "metadata": {},
   "outputs": [],
   "source": [
    "x_test = x_test.drop(columns = ['year_2003', 'year_2010', 'year_2004', 'lfpr:urate_lower', 'emp_estabs_sq', 'year_2005'])"
   ]
  },
  {
   "cell_type": "code",
   "execution_count": 29,
   "metadata": {},
   "outputs": [
    {
     "data": {
      "text/plain": [
       "9.175397656227684"
      ]
     },
     "execution_count": 29,
     "metadata": {},
     "output_type": "execute_result"
    }
   ],
   "source": [
    "y_hat_sm = fit_sm.predict(x_test)\n",
    "y_hat_sm.head()\n",
    "rmse_sm = np.sqrt(np.mean((y_test - y_hat_sm)**2))\n",
    "rmse_sm"
   ]
  },
  {
   "cell_type": "code",
   "execution_count": 31,
   "metadata": {},
   "outputs": [
    {
     "data": {
      "text/plain": [
       "9.295172646932564"
      ]
     },
     "execution_count": 31,
     "metadata": {},
     "output_type": "execute_result"
    }
   ],
   "source": [
    "rmse_null = np.sqrt(  np.mean((y_test - np.mean(y_train))**2)  )\n",
    "rmse_null"
   ]
  },
  {
   "cell_type": "code",
   "execution_count": 32,
   "metadata": {},
   "outputs": [
    {
     "name": "stdout",
     "output_type": "stream",
     "text": [
      "1.29%\n"
     ]
    }
   ],
   "source": [
    "print(round((rmse_null - rmse_sm)/rmse_null*100, 2), '%', sep = '')"
   ]
  }
 ],
 "metadata": {
  "kernelspec": {
   "display_name": "Python 3",
   "language": "python",
   "name": "python3"
  },
  "language_info": {
   "codemirror_mode": {
    "name": "ipython",
    "version": 3
   },
   "file_extension": ".py",
   "mimetype": "text/x-python",
   "name": "python",
   "nbconvert_exporter": "python",
   "pygments_lexer": "ipython3",
   "version": "3.8.5"
  }
 },
 "nbformat": 4,
 "nbformat_minor": 4
}
